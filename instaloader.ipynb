{
 "cells": [
  {
   "cell_type": "markdown",
   "metadata": {},
   "source": [
    "# get bio from profile"
   ]
  },
  {
   "cell_type": "code",
   "execution_count": null,
   "metadata": {},
   "outputs": [],
   "source": [
    "import instaloader\n",
    "L = instaloader.Instaloader()\n",
    "profile = instaloader.Profile.from_username(L.context, 'zhyvov')\n",
    "print(profile.biography)"
   ]
  },
  {
   "cell_type": "markdown",
   "metadata": {},
   "source": [
    "# get a list of followers"
   ]
  },
  {
   "cell_type": "code",
   "execution_count": null,
   "metadata": {},
   "outputs": [],
   "source": [
    "import instaloader\n",
    "\n",
    "L = instaloader.Instaloader()\n",
    " \n",
    "PROFILE = 'zhyvov' #target\n",
    "\n",
    "profile = instaloader.Profile.from_username(L.context, PROFILE)\n",
    "\n",
    "L.login('zhyvov', 'Vova_99159915')\n",
    "\n",
    "all_followers=profile.get_followers()"
   ]
  },
  {
   "cell_type": "code",
   "execution_count": null,
   "metadata": {},
   "outputs": [],
   "source": [
    "#обработать сразу всех - большая нагрузка, поэтому порционно\n",
    "limit=5 #опр количество \n",
    "\n",
    "list_followers=[]\n",
    "i=0\n",
    "for item in all_followers:\n",
    "    item=str(item)\n",
    "    item=item[item.find(' ')+1:item.find('(')-1]\n",
    "    list_followers.append(item)\n",
    "    i+=1\n",
    "    if i==limit:\n",
    "        break"
   ]
  },
  {
   "cell_type": "code",
   "execution_count": null,
   "metadata": {},
   "outputs": [],
   "source": [
    "#скачать всех но с паузами\n",
    "list_followers=[]\n",
    "i=0\n",
    "for item in all_followers:\n",
    "    item=str(item)\n",
    "    item=item[item.find(' ')+1:item.find('(')-1]\n",
    "    list_followers.append(item)\n",
    "    i+=1\n",
    "    if i%700==0:\n",
    "        time.sleep(60*12) #12 минут пауза"
   ]
  },
  {
   "cell_type": "code",
   "execution_count": null,
   "metadata": {},
   "outputs": [],
   "source": [
    "limit=100 #опр количество \n",
    "\n",
    "list_followers=[]\n",
    "i=0\n",
    "for item in all_followers:\n",
    "    item=str(item)\n",
    "    item=item[item.find(' ')+1:item.find('(')-1]\n",
    "    list_followers.append(instaloader.Profile.from_username(L.context, item).biography)\n",
    "    i+=1\n",
    "    if i==limit:\n",
    "        break"
   ]
  },
  {
   "cell_type": "markdown",
   "metadata": {},
   "source": [
    "# extract emails from a list of bios"
   ]
  },
  {
   "cell_type": "code",
   "execution_count": null,
   "metadata": {},
   "outputs": [],
   "source": [
    "for i in list_followers:\n",
    "    try:\n",
    "        print(re.search(r'[\\w\\.-]+@[\\w\\.-]+', i).group(0))\n",
    "    except:\n",
    "        continue"
   ]
  },
  {
   "cell_type": "code",
   "execution_count": null,
   "metadata": {},
   "outputs": [],
   "source": []
  }
 ],
 "metadata": {
  "kernelspec": {
   "display_name": "Python 3",
   "language": "python",
   "name": "python3"
  },
  "language_info": {
   "codemirror_mode": {
    "name": "ipython",
    "version": 3
   },
   "file_extension": ".py",
   "mimetype": "text/x-python",
   "name": "python",
   "nbconvert_exporter": "python",
   "pygments_lexer": "ipython3",
   "version": "3.7.3"
  }
 },
 "nbformat": 4,
 "nbformat_minor": 2
}
