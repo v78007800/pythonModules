{
 "cells": [
  {
   "cell_type": "code",
   "execution_count": null,
   "metadata": {},
   "outputs": [],
   "source": [
    "from requests import Session\n",
    "from bs4 import BeautifulSoup as bs\n",
    "import logging\n",
    "import requests\n",
    "\n",
    "# enable debug logging with basic logging config\n",
    "logging.basicConfig(level=logging.DEBUG)  \n",
    "with Session() as s:\n",
    "    s.headers['user-agent'] = 'myapp'\n",
    "    site = s.get(\"https://www.pythonanywhere.com/login/\")\n",
    "    bs_content = bs(site.content, \"html.parser\")\n",
    "    token = bs_content.find(\"input\", {\"name\":\"csrfmiddlewaretoken\"})[\"value\"]\n",
    "    login_data = {\"auth-username\":\"vzhyvov\",\"auth-password\":\"Vova__99159915\", \"csrfmiddlewaretoken\":token,\"login_view-current_step\":\"auth\"}\n",
    "    headers = {'User-Agent': 'Mozilla/5.0 (Windows NT 10.0; Win64; x64) AppleWebKit/537.36 (KHTML, like Gecko) Chrome/69.0.3497.92 Safari/537.36',\n",
    "            'Referer': 'https://www.pythonanywhere.com/login/'}\n",
    "    s.post(\"https://www.pythonanywhere.com/login/\",login_data,headers=headers)\n",
    "    parameters = s.get(\"https://www.pythonanywhere.com/user/VladZ/shares/1eb8edbbca074a9b9bedbc67c6a27fd5/\")"
   ]
  },
  {
   "cell_type": "code",
   "execution_count": null,
   "metadata": {},
   "outputs": [],
   "source": [
    "#login_data = {\"auth-username\":\"vzhyvov\",\"auth-password\":\"Vova__99159915\", \"csrfmiddlewaretoken\":token,\"login_view-current_step\":\"auth\"}\n",
    "#эти параметры смотрим на странице логирования сайта в Networking"
   ]
  }
 ],
 "metadata": {
  "kernelspec": {
   "display_name": "Python 3",
   "language": "python",
   "name": "python3"
  },
  "language_info": {
   "codemirror_mode": {
    "name": "ipython",
    "version": 3
   },
   "file_extension": ".py",
   "mimetype": "text/x-python",
   "name": "python",
   "nbconvert_exporter": "python",
   "pygments_lexer": "ipython3",
   "version": "3.7.3"
  }
 },
 "nbformat": 4,
 "nbformat_minor": 2
}
