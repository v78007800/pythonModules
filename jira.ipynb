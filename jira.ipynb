{
 "cells": [
  {
   "cell_type": "code",
   "execution_count": 4,
   "metadata": {},
   "outputs": [],
   "source": [
    "import jira"
   ]
  },
  {
   "cell_type": "code",
   "execution_count": null,
   "metadata": {},
   "outputs": [],
   "source": [
    "jira_options = {'server': 'https://jira.axiomsl.us/'}\n",
    "jira = JIRA(options=jira_options, basic_auth=(\"vzhyvov\", \"Vova___99159915\"))"
   ]
  },
  {
   "cell_type": "code",
   "execution_count": 15,
   "metadata": {},
   "outputs": [],
   "source": [
    "jql = 'project = AXLATAM' \n",
    "issues_list = jira.search_issues(jql) "
   ]
  },
  {
   "cell_type": "code",
   "execution_count": 16,
   "metadata": {},
   "outputs": [],
   "source": [
    "#AND Updated>2019-11-10\n",
    "issues = jira.search_issues('project=AXUART AND timespent!= 0 AND component=LATAM_GENERIC', maxResults=None,\n",
    "                           fields=[\"summary,status,customfield_10020,timetracking\"])"
   ]
  },
  {
   "cell_type": "code",
   "execution_count": 21,
   "metadata": {},
   "outputs": [
    {
     "data": {
      "text/plain": [
       "'0.5d'"
      ]
     },
     "execution_count": 21,
     "metadata": {},
     "output_type": "execute_result"
    }
   ],
   "source": [
    "issue=jira.issue(\"AXUART-7678\")\n",
    "issue.fields.timetracking.originalEstimate"
   ]
  },
  {
   "cell_type": "code",
   "execution_count": 22,
   "metadata": {},
   "outputs": [
    {
     "name": "stdout",
     "output_type": "stream",
     "text": [
      "Comment text :  Partial testing has been completed\n"
     ]
    }
   ],
   "source": [
    "#get comments for a ticket\n",
    "issue = jira.issue(\"AXUART-7678\")\n",
    "for comment in jira.comments(issue):\n",
    "    print(\"Comment text : \",comment.body)"
   ]
  },
  {
   "cell_type": "code",
   "execution_count": 23,
   "metadata": {},
   "outputs": [
    {
     "ename": "NameError",
     "evalue": "name 'assignee' is not defined",
     "output_type": "error",
     "traceback": [
      "\u001b[1;31m---------------------------------------------------------------------------\u001b[0m",
      "\u001b[1;31mNameError\u001b[0m                                 Traceback (most recent call last)",
      "\u001b[1;32m<ipython-input-23-c1fcb153e2e0>\u001b[0m in \u001b[0;36m<module>\u001b[1;34m\u001b[0m\n\u001b[0;32m      3\u001b[0m \u001b[0missue\u001b[0m\u001b[1;33m.\u001b[0m\u001b[0mfields\u001b[0m\u001b[1;33m.\u001b[0m\u001b[0mcustomfield_14160\u001b[0m \u001b[1;31m#Created\u001b[0m\u001b[1;33m\u001b[0m\u001b[1;33m\u001b[0m\u001b[0m\n\u001b[0;32m      4\u001b[0m \u001b[0missue\u001b[0m\u001b[1;33m.\u001b[0m\u001b[0mfields\u001b[0m\u001b[1;33m.\u001b[0m\u001b[0mcustomfield_15073\u001b[0m \u001b[1;31m#Start Test\u001b[0m\u001b[1;33m\u001b[0m\u001b[1;33m\u001b[0m\u001b[0m\n\u001b[1;32m----> 5\u001b[1;33m \u001b[0massignee\u001b[0m  \u001b[1;31m#Assignee\u001b[0m\u001b[1;33m\u001b[0m\u001b[1;33m\u001b[0m\u001b[0m\n\u001b[0m\u001b[0;32m      6\u001b[0m \u001b[0mcustomfield_10860\u001b[0m \u001b[1;31m#Developer\u001b[0m\u001b[1;33m\u001b[0m\u001b[1;33m\u001b[0m\u001b[0m\n\u001b[0;32m      7\u001b[0m \u001b[0mcustomfield_10020\u001b[0m \u001b[1;31m#Tester\u001b[0m\u001b[1;33m\u001b[0m\u001b[1;33m\u001b[0m\u001b[0m\n",
      "\u001b[1;31mNameError\u001b[0m: name 'assignee' is not defined"
     ]
    }
   ],
   "source": [
    "issue.fields.summary #ticket name\n",
    "issue.fields.status\n",
    "issue.fields.customfield_14160 #Created\n",
    "issue.fields.customfield_15073 #Start Test\n",
    "assignee  #Assignee\n",
    "customfield_10860 #Developer\n",
    "customfield_10020 #Tester\n",
    "description  #description\n",
    "timetracking #Time Tracking\n",
    "components #components "
   ]
  },
  {
   "cell_type": "code",
   "execution_count": 58,
   "metadata": {},
   "outputs": [
    
   ],
   "source": [
    "#list of all fields\n",
    "for field_name in issue.raw['fields']:\n",
    "    print (\"Field:\", field_name, \"Value:\", issue.raw['fields'][field_name])"
   ]
  },
  {
   "cell_type": "code",
   "execution_count": 145,
   "metadata": {},
   "outputs": [],
   "source": [
    "#'1d 22h 34m' to hours\n",
    "def datetimes(string,measure):\n",
    "    res=re.findall('[0-9/.]*'+measure, string)\n",
    "    if res==[]:\n",
    "        res=0\n",
    "    else: res=res[0].replace(measure,\"\")\n",
    "    if measure=='d':\n",
    "        mult=24\n",
    "    elif measure=='h':\n",
    "        mult=1\n",
    "    elif measure=='m':\n",
    "        mult=1/60\n",
    "    return round(mult*float(res),1)\n",
    "\n",
    "summary=[]\n",
    "status=[]\n",
    "tester=[]\n",
    "timeSpent=[]\n",
    "for issue in issues:\n",
    "    summary.append(issue.fields.summary)\n",
    "    status.append(issue.fields.status)\n",
    "    tester.append(issue.fields.customfield_10020)\n",
    "\n",
    "    #'1d 22h 34m' to hours\n",
    "    s=str(issue.fields.timetracking.timeSpent)\n",
    "    s=datetimes(s,'d')+datetimes(s,'h')+datetimes(s,'m')\n",
    "    timeSpent.append(s)\n",
    "\n",
    "\n",
    "\n",
    "import xlsxwriter\n",
    "import re\n",
    "  \n",
    "workbook = xlsxwriter.Workbook('random.xlsx') \n",
    "worksheet = workbook.add_worksheet() \n",
    "\n",
    "\n",
    "worksheet.write(0, 0, 'summary')\n",
    "worksheet.write(0, 1, 'status')\n",
    "worksheet.write(0, 2, 'tester')\n",
    "worksheet.write(0, 3, 'timeSpent')\n",
    "\n",
    "for i in range(len(summary)): \n",
    "    worksheet.write(i+1, 0, summary[i]) \n",
    "    worksheet.write(i+1, 1, str(status[i]))\n",
    "    worksheet.write(i+1, 2, str(tester[i]))\n",
    "    worksheet.write(i+1, 3, timeSpent[i])\n",
    "\n",
    "      \n",
    "workbook.close() "
   ]
  },
  {
   "cell_type": "code",
   "execution_count": null,
   "metadata": {},
   "outputs": [],
   "source": []
  }
 ],
 "metadata": {
  "kernelspec": {
   "display_name": "Python 3",
   "language": "python",
   "name": "python3"
  },
  "language_info": {
   "codemirror_mode": {
    "name": "ipython",
    "version": 3
   },
   "file_extension": ".py",
   "mimetype": "text/x-python",
   "name": "python",
   "nbconvert_exporter": "python",
   "pygments_lexer": "ipython3",
   "version": "3.7.3"
  }
 },
 "nbformat": 4,
 "nbformat_minor": 2
}
